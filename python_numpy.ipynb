{
  "nbformat": 4,
  "nbformat_minor": 0,
  "metadata": {
    "colab": {
      "name": "python_numpy.ipynb",
      "version": "0.3.2",
      "provenance": [],
      "collapsed_sections": [],
      "include_colab_link": true
    },
    "kernelspec": {
      "name": "python3",
      "display_name": "Python 3"
    },
    "accelerator": "GPU"
  },
  "cells": [
    {
      "cell_type": "markdown",
      "metadata": {
        "id": "view-in-github",
        "colab_type": "text"
      },
      "source": [
        "[View in Colaboratory](https://colab.research.google.com/github/hyuk728/colab/blob/master/python_numpy.ipynb)"
      ]
    },
    {
      "metadata": {
        "id": "ekb_U6aC_f8A",
        "colab_type": "text"
      },
      "cell_type": "markdown",
      "source": [
        "Classic quicksort algorithm in Python"
      ]
    },
    {
      "metadata": {
        "id": "lWhMCrKl-zic",
        "colab_type": "code",
        "colab": {
          "base_uri": "https://localhost:8080/",
          "height": 35
        },
        "outputId": "1556c531-6744-48f0-a8ad-7523f2ba1773"
      },
      "cell_type": "code",
      "source": [
        "def quicksort(arr):\n",
        "  if len(arr) <= 1:\n",
        "    return arr\n",
        "  pivot = arr[len(arr) // 2]\n",
        "  left = [x for x in arr if x < pivot]\n",
        "  middle = [x for x in arr if x == pivot]\n",
        "  right = [x for x in arr if x > pivot]\n",
        "  return quicksort(left) + middle + quicksort(right)\n",
        "\n",
        "quicksort([3,6,8,10,1,2,1])"
      ],
      "execution_count": 3,
      "outputs": [
        {
          "output_type": "execute_result",
          "data": {
            "text/plain": [
              "[1, 1, 2, 3, 6, 8, 10]"
            ]
          },
          "metadata": {
            "tags": []
          },
          "execution_count": 3
        }
      ]
    },
    {
      "metadata": {
        "id": "jZfmXKPW_jOS",
        "colab_type": "text"
      },
      "cell_type": "markdown",
      "source": [
        "Python version"
      ]
    },
    {
      "metadata": {
        "id": "fpOXQEQcBLaz",
        "colab_type": "code",
        "colab": {
          "base_uri": "https://localhost:8080/",
          "height": 35
        },
        "outputId": "4847b8a3-c4fa-4635-f2ef-656a434595b5"
      },
      "cell_type": "code",
      "source": [
        "!python --version"
      ],
      "execution_count": 10,
      "outputs": [
        {
          "output_type": "stream",
          "text": [
            "Python 3.6.3\n"
          ],
          "name": "stdout"
        }
      ]
    },
    {
      "metadata": {
        "id": "FAILr2GdCEHq",
        "colab_type": "text"
      },
      "cell_type": "markdown",
      "source": [
        "**Numbers**"
      ]
    },
    {
      "metadata": {
        "id": "gPZX9mPYBPmD",
        "colab_type": "code",
        "colab": {
          "base_uri": "https://localhost:8080/",
          "height": 35
        },
        "outputId": "32a4b8cd-5c36-4fed-f5a7-00b54abe2091"
      },
      "cell_type": "code",
      "source": [
        "x = 3\n",
        "print(x, type(x))"
      ],
      "execution_count": 21,
      "outputs": [
        {
          "output_type": "stream",
          "text": [
            "3 <class 'int'>\n"
          ],
          "name": "stdout"
        }
      ]
    },
    {
      "metadata": {
        "id": "OgBnRHRrCB_E",
        "colab_type": "code",
        "colab": {
          "base_uri": "https://localhost:8080/",
          "height": 89
        },
        "outputId": "a7260cc0-1f10-4e2e-c7cf-09e757a70ebb"
      },
      "cell_type": "code",
      "source": [
        "print(x + 1)   # Addition;# Additi \n",
        "print(x - 1)   # Subtraction;\n",
        "print(x * 2)  # Multiplication;\n",
        "print(x ** 2)  # Exponentiation;"
      ],
      "execution_count": 22,
      "outputs": [
        {
          "output_type": "stream",
          "text": [
            "4\n",
            "2\n",
            "6\n",
            "9\n"
          ],
          "name": "stdout"
        }
      ]
    },
    {
      "metadata": {
        "id": "Y5YlDYjRCbr1",
        "colab_type": "code",
        "colab": {
          "base_uri": "https://localhost:8080/",
          "height": 53
        },
        "outputId": "8d6610da-fa09-4277-9087-4a29b98572e6"
      },
      "cell_type": "code",
      "source": [
        "x += 1\n",
        "print(x)\n",
        "x *= 2\n",
        "print(x)"
      ],
      "execution_count": 23,
      "outputs": [
        {
          "output_type": "stream",
          "text": [
            "4\n",
            "8\n"
          ],
          "name": "stdout"
        }
      ]
    },
    {
      "metadata": {
        "id": "Hre4zpUxCog8",
        "colab_type": "code",
        "colab": {
          "base_uri": "https://localhost:8080/",
          "height": 53
        },
        "outputId": "fc0d2f44-df7a-48ce-e4d5-b25ab7fa4a74"
      },
      "cell_type": "code",
      "source": [
        "y = 2.5\n",
        "print(type(y))\n",
        "print(y, y+1, y*2, y**2)"
      ],
      "execution_count": 24,
      "outputs": [
        {
          "output_type": "stream",
          "text": [
            "<class 'float'>\n",
            "2.5 3.5 5.0 6.25\n"
          ],
          "name": "stdout"
        }
      ]
    },
    {
      "metadata": {
        "id": "gDC6xBc7DSd9",
        "colab_type": "text"
      },
      "cell_type": "markdown",
      "source": [
        "**Booleans**"
      ]
    },
    {
      "metadata": {
        "id": "jJF7HIHSDLU0",
        "colab_type": "code",
        "colab": {
          "base_uri": "https://localhost:8080/",
          "height": 35
        },
        "outputId": "2e8c089d-17d0-429e-9142-d872bbb43547"
      },
      "cell_type": "code",
      "source": [
        "t, f = True, False\n",
        "print(type(t))"
      ],
      "execution_count": 26,
      "outputs": [
        {
          "output_type": "stream",
          "text": [
            "<class 'bool'>\n"
          ],
          "name": "stdout"
        }
      ]
    },
    {
      "metadata": {
        "id": "OGMqabq8DdJ1",
        "colab_type": "code",
        "colab": {
          "base_uri": "https://localhost:8080/",
          "height": 89
        },
        "outputId": "17f0959c-48b5-4e78-a04c-00a8ade65451"
      },
      "cell_type": "code",
      "source": [
        "print(t and f)\n",
        "print(t or f)\n",
        "print(not t)\n",
        "print(t != f)"
      ],
      "execution_count": 28,
      "outputs": [
        {
          "output_type": "stream",
          "text": [
            "False\n",
            "True\n",
            "False\n",
            "True\n"
          ],
          "name": "stdout"
        }
      ]
    },
    {
      "metadata": {
        "id": "FS2FvUgiDzA1",
        "colab_type": "text"
      },
      "cell_type": "markdown",
      "source": [
        "**Strings**"
      ]
    },
    {
      "metadata": {
        "id": "7gG2TMD0DvJl",
        "colab_type": "code",
        "colab": {
          "base_uri": "https://localhost:8080/",
          "height": 53
        },
        "outputId": "656f75fb-4bd7-4dd3-f023-491fd82cb8f0"
      },
      "cell_type": "code",
      "source": [
        "hello = 'hello'\n",
        "world = \"world\"\n",
        "print(hello)\n",
        "print(len(hello))"
      ],
      "execution_count": 30,
      "outputs": [
        {
          "output_type": "stream",
          "text": [
            "hello\n",
            "5\n"
          ],
          "name": "stdout"
        }
      ]
    },
    {
      "metadata": {
        "id": "M3y6uNI-ECGW",
        "colab_type": "code",
        "colab": {
          "base_uri": "https://localhost:8080/",
          "height": 35
        },
        "outputId": "47fc1790-d30f-4e2b-e937-96a1bd097456"
      },
      "cell_type": "code",
      "source": [
        "hw = hello + ' ' + world\n",
        "print(hw) "
      ],
      "execution_count": 31,
      "outputs": [
        {
          "output_type": "stream",
          "text": [
            "hello world\n"
          ],
          "name": "stdout"
        }
      ]
    },
    {
      "metadata": {
        "id": "HqTJb_4YEO_O",
        "colab_type": "code",
        "colab": {
          "base_uri": "https://localhost:8080/",
          "height": 125
        },
        "outputId": "f4884555-753c-4da8-9b7a-876026dfecc9"
      },
      "cell_type": "code",
      "source": [
        "s = \"hello\"\n",
        "print( s.capitalize() ) \n",
        "print( s.upper() )      \n",
        "print( s.rjust(7) )    \n",
        "print( s.center(7) )    \n",
        "print( s.replace('l', '(ell)')  )\n",
        "                               \n",
        "print( '  world '.strip() )"
      ],
      "execution_count": 32,
      "outputs": [
        {
          "output_type": "stream",
          "text": [
            "Hello\n",
            "HELLO\n",
            "  hello\n",
            " hello \n",
            "he(ell)(ell)o\n",
            "world\n"
          ],
          "name": "stdout"
        }
      ]
    },
    {
      "metadata": {
        "id": "dXif67KtEvsf",
        "colab_type": "text"
      },
      "cell_type": "markdown",
      "source": [
        " **Lists**"
      ]
    },
    {
      "metadata": {
        "id": "mh2dO_sYEoOu",
        "colab_type": "code",
        "colab": {
          "base_uri": "https://localhost:8080/",
          "height": 53
        },
        "outputId": "649137e6-9ba3-4107-85b6-9ba75c3a6943"
      },
      "cell_type": "code",
      "source": [
        "xs = [3, 1, 2]\n",
        "print(xs, xs[2])\n",
        "print(xs[-1])"
      ],
      "execution_count": 1,
      "outputs": [
        {
          "output_type": "stream",
          "text": [
            "[3, 1, 2] 2\n",
            "2\n"
          ],
          "name": "stdout"
        }
      ]
    },
    {
      "metadata": {
        "id": "dvXuFnS4E1hf",
        "colab_type": "code",
        "colab": {
          "base_uri": "https://localhost:8080/",
          "height": 35
        },
        "outputId": "4b871e89-d876-4a21-ffa2-bbcc1cc58e88"
      },
      "cell_type": "code",
      "source": [
        "xs[2] = 'foo'\n",
        "xs"
      ],
      "execution_count": 2,
      "outputs": [
        {
          "output_type": "execute_result",
          "data": {
            "text/plain": [
              "[3, 1, 'foo']"
            ]
          },
          "metadata": {
            "tags": []
          },
          "execution_count": 2
        }
      ]
    },
    {
      "metadata": {
        "id": "KELdoO3i8kJa",
        "colab_type": "code",
        "colab": {
          "base_uri": "https://localhost:8080/",
          "height": 35
        },
        "outputId": "18b345e8-f2cc-4f6d-f27c-098c8cbb2f96"
      },
      "cell_type": "code",
      "source": [
        "xs.append('bar')\n",
        "xs"
      ],
      "execution_count": 4,
      "outputs": [
        {
          "output_type": "execute_result",
          "data": {
            "text/plain": [
              "[3, 1, 'foo', 'bar']"
            ]
          },
          "metadata": {
            "tags": []
          },
          "execution_count": 4
        }
      ]
    },
    {
      "metadata": {
        "id": "K5xCjNAC8n3y",
        "colab_type": "code",
        "colab": {
          "base_uri": "https://localhost:8080/",
          "height": 35
        },
        "outputId": "ebaf948d-16b8-4ad4-e4a8-3e87e13ffcae"
      },
      "cell_type": "code",
      "source": [
        "x = xs.pop()\n",
        "print(x, xs)"
      ],
      "execution_count": 5,
      "outputs": [
        {
          "output_type": "stream",
          "text": [
            "bar [3, 1, 'foo']\n"
          ],
          "name": "stdout"
        }
      ]
    },
    {
      "metadata": {
        "id": "eDg5GAVy84dP",
        "colab_type": "text"
      },
      "cell_type": "markdown",
      "source": [
        "**Slicing**"
      ]
    },
    {
      "metadata": {
        "id": "w0nZ4Sq18yLq",
        "colab_type": "code",
        "colab": {
          "base_uri": "https://localhost:8080/",
          "height": 143
        },
        "outputId": "c3a0b1f8-ce1d-4ba4-f6cc-c4c9ed99fee0"
      },
      "cell_type": "code",
      "source": [
        "nums = [0, 1, 2, 3 ,4]   \n",
        "print( nums )         # Prints \"[0, 1, 2, 3, 4]\"\n",
        "print( nums[2:4])    # Get a slice from index 2 to 4 (exclusive); prints \"[2, 3]\"\n",
        "print( nums[2:])     # Get a slice from index 2 to the end; prints \"[2, 3, 4]\"\n",
        "print( nums[:2])     # Get a slice from the start to index 2 (exclusive); prints \"[0, 1]\"\n",
        "print( nums[:] )     # Get a slice of the whole list; prints [\"0, 1, 2, 3, 4]\"\n",
        "print( nums[:-1])    # Slice indices can be negative; prints [\"0, 1, 2, 3]\"\n",
        "nums[2:4] = [8, 9] # Assign a new sublist to a slice\n",
        "print( nums)   "
      ],
      "execution_count": 18,
      "outputs": [
        {
          "output_type": "stream",
          "text": [
            "[0, 1, 2, 3, 4]\n",
            "[2, 3]\n",
            "[2, 3, 4]\n",
            "[0, 1]\n",
            "[0, 1, 2, 3, 4]\n",
            "[0, 1, 2, 3]\n",
            "[0, 1, 8, 9, 4]\n"
          ],
          "name": "stdout"
        }
      ]
    },
    {
      "metadata": {
        "id": "_0WDp_Bd-gAW",
        "colab_type": "text"
      },
      "cell_type": "markdown",
      "source": [
        "**Loops**"
      ]
    },
    {
      "metadata": {
        "id": "zcxC1WXM-fe4",
        "colab_type": "code",
        "colab": {
          "base_uri": "https://localhost:8080/",
          "height": 71
        },
        "outputId": "d90e06da-5d2b-425a-bc5a-3ef5ab31e78f"
      },
      "cell_type": "code",
      "source": [
        "animals = ['cat', 'dog', 'monkey']\n",
        "for animal in animals:\n",
        "  print(animal)"
      ],
      "execution_count": 19,
      "outputs": [
        {
          "output_type": "stream",
          "text": [
            "cat\n",
            "dog\n",
            "monkey\n"
          ],
          "name": "stdout"
        }
      ]
    },
    {
      "metadata": {
        "id": "bDvjohAh-u68",
        "colab_type": "code",
        "colab": {
          "base_uri": "https://localhost:8080/",
          "height": 71
        },
        "outputId": "16814d36-36bd-4adb-f404-a717e4db8673"
      },
      "cell_type": "code",
      "source": [
        "animals = ['cat', 'dog', 'monkey']\n",
        "for idx, animal in enumerate(animals):\n",
        "  print(idx+1, animal)"
      ],
      "execution_count": 21,
      "outputs": [
        {
          "output_type": "stream",
          "text": [
            "1 cat\n",
            "2 dog\n",
            "3 monkey\n"
          ],
          "name": "stdout"
        }
      ]
    },
    {
      "metadata": {
        "id": "PEocJMyMBnvf",
        "colab_type": "text"
      },
      "cell_type": "markdown",
      "source": [
        "**List** **comprehensions**"
      ]
    },
    {
      "metadata": {
        "id": "G0PDyk7oBioW",
        "colab_type": "code",
        "colab": {
          "base_uri": "https://localhost:8080/",
          "height": 35
        },
        "outputId": "f68245b5-327f-426a-8c90-e64facb1491c"
      },
      "cell_type": "code",
      "source": [
        "nums = [0, 1, 2, 3, 4]\n",
        "squares = []\n",
        "for x in nums:\n",
        "  squares.append(x**2)\n",
        "squares"
      ],
      "execution_count": 22,
      "outputs": [
        {
          "output_type": "execute_result",
          "data": {
            "text/plain": [
              "[0, 1, 4, 9, 16]"
            ]
          },
          "metadata": {
            "tags": []
          },
          "execution_count": 22
        }
      ]
    },
    {
      "metadata": {
        "id": "-YSBZhU8B_Av",
        "colab_type": "code",
        "colab": {
          "base_uri": "https://localhost:8080/",
          "height": 35
        },
        "outputId": "17a41b64-535b-4674-b3aa-b029a79f0e72"
      },
      "cell_type": "code",
      "source": [
        "nums = [0, 1, 2, 3, 4]\n",
        "squares = [x**2 for x in nums]\n",
        "squares"
      ],
      "execution_count": 23,
      "outputs": [
        {
          "output_type": "execute_result",
          "data": {
            "text/plain": [
              "[0, 1, 4, 9, 16]"
            ]
          },
          "metadata": {
            "tags": []
          },
          "execution_count": 23
        }
      ]
    },
    {
      "metadata": {
        "id": "oIxDfbouCMOf",
        "colab_type": "code",
        "colab": {
          "base_uri": "https://localhost:8080/",
          "height": 35
        },
        "outputId": "b6c535d1-ba9c-46f9-8162-4b5a22a63504"
      },
      "cell_type": "code",
      "source": [
        "nums = [0, 1, 2, 3, 4]\n",
        "even_squares = [x**2 for x in nums if x % 2 == 0]\n",
        "even_squares"
      ],
      "execution_count": 24,
      "outputs": [
        {
          "output_type": "execute_result",
          "data": {
            "text/plain": [
              "[0, 4, 16]"
            ]
          },
          "metadata": {
            "tags": []
          },
          "execution_count": 24
        }
      ]
    },
    {
      "metadata": {
        "id": "RGQJkYIyCgGo",
        "colab_type": "text"
      },
      "cell_type": "markdown",
      "source": [
        "**Dictionaries**"
      ]
    },
    {
      "metadata": {
        "id": "nea8v5RuCc0Y",
        "colab_type": "code",
        "colab": {}
      },
      "cell_type": "code",
      "source": [
        ""
      ],
      "execution_count": 0,
      "outputs": []
    }
  ]
}